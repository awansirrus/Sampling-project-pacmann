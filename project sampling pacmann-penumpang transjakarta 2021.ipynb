{
 "cells": [
  {
   "cell_type": "code",
   "execution_count": 1,
   "id": "6af91f65",
   "metadata": {},
   "outputs": [],
   "source": [
    "# Load data manipulation package\n",
    "import numpy as np\n",
    "import pandas as pd\n",
    "\n",
    "# Load data visualization package\n",
    "import matplotlib.pyplot as plt\n",
    "import seaborn as sns\n",
    "\n",
    "# Load statistic package\n",
    "from scipy import stats\n",
    "\n",
    "# ignore warnings\n",
    "import warnings\n",
    "warnings.filterwarnings('ignore')"
   ]
  },
  {
   "cell_type": "code",
   "execution_count": 2,
   "id": "e25ce71d",
   "metadata": {},
   "outputs": [
    {
     "data": {
      "text/html": [
       "<div>\n",
       "<style scoped>\n",
       "    .dataframe tbody tr th:only-of-type {\n",
       "        vertical-align: middle;\n",
       "    }\n",
       "\n",
       "    .dataframe tbody tr th {\n",
       "        vertical-align: top;\n",
       "    }\n",
       "\n",
       "    .dataframe thead th {\n",
       "        text-align: right;\n",
       "    }\n",
       "</style>\n",
       "<table border=\"1\" class=\"dataframe\">\n",
       "  <thead>\n",
       "    <tr style=\"text-align: right;\">\n",
       "      <th></th>\n",
       "      <th>tahun</th>\n",
       "      <th>bulan</th>\n",
       "      <th>jenis</th>\n",
       "      <th>kode_trayek</th>\n",
       "      <th>trayek</th>\n",
       "      <th>jumlah_penumpang</th>\n",
       "    </tr>\n",
       "  </thead>\n",
       "  <tbody>\n",
       "    <tr>\n",
       "      <th>0</th>\n",
       "      <td>2021</td>\n",
       "      <td>1</td>\n",
       "      <td>Mikrotrans</td>\n",
       "      <td>JAK.88</td>\n",
       "      <td>Terminal Tanjung Priok - Ancol Barat</td>\n",
       "      <td>1473</td>\n",
       "    </tr>\n",
       "    <tr>\n",
       "      <th>1</th>\n",
       "      <td>2021</td>\n",
       "      <td>1</td>\n",
       "      <td>Mikrotrans</td>\n",
       "      <td>JAK.85</td>\n",
       "      <td>Bintara - Cipinang Indah</td>\n",
       "      <td>20280</td>\n",
       "    </tr>\n",
       "    <tr>\n",
       "      <th>2</th>\n",
       "      <td>2021</td>\n",
       "      <td>1</td>\n",
       "      <td>Mikrotrans</td>\n",
       "      <td>JAK.84</td>\n",
       "      <td>Terminal Kampung Melayu - Kapin Raya</td>\n",
       "      <td>28779</td>\n",
       "    </tr>\n",
       "    <tr>\n",
       "      <th>3</th>\n",
       "      <td>2021</td>\n",
       "      <td>1</td>\n",
       "      <td>Mikrotrans</td>\n",
       "      <td>JAK.80</td>\n",
       "      <td>Rawa Buaya - Rawa Kompeni</td>\n",
       "      <td>54998</td>\n",
       "    </tr>\n",
       "    <tr>\n",
       "      <th>4</th>\n",
       "      <td>2021</td>\n",
       "      <td>1</td>\n",
       "      <td>Mikrotrans</td>\n",
       "      <td>JA.77</td>\n",
       "      <td>Tanjung Priok - Jembatan Item</td>\n",
       "      <td>60284</td>\n",
       "    </tr>\n",
       "    <tr>\n",
       "      <th>...</th>\n",
       "      <td>...</td>\n",
       "      <td>...</td>\n",
       "      <td>...</td>\n",
       "      <td>...</td>\n",
       "      <td>...</td>\n",
       "      <td>...</td>\n",
       "    </tr>\n",
       "    <tr>\n",
       "      <th>1468</th>\n",
       "      <td>2021</td>\n",
       "      <td>12</td>\n",
       "      <td>Angkutan Umum Integrasi</td>\n",
       "      <td>1A</td>\n",
       "      <td>PIK - Balai Kota</td>\n",
       "      <td>0</td>\n",
       "    </tr>\n",
       "    <tr>\n",
       "      <th>1469</th>\n",
       "      <td>2021</td>\n",
       "      <td>12</td>\n",
       "      <td>Angkutan Umum Integrasi</td>\n",
       "      <td>12B</td>\n",
       "      <td>Pluit - Senen</td>\n",
       "      <td>0</td>\n",
       "    </tr>\n",
       "    <tr>\n",
       "      <th>1470</th>\n",
       "      <td>2021</td>\n",
       "      <td>12</td>\n",
       "      <td>Angkutan Umum Integrasi</td>\n",
       "      <td>11Q</td>\n",
       "      <td>Kampung Melayu - Pulo Gebang via BKT</td>\n",
       "      <td>0</td>\n",
       "    </tr>\n",
       "    <tr>\n",
       "      <th>1471</th>\n",
       "      <td>2021</td>\n",
       "      <td>12</td>\n",
       "      <td>Angkutan Umum Integrasi</td>\n",
       "      <td>11D</td>\n",
       "      <td>Pulo Gebang - Pulo Gadung 2 via PIK</td>\n",
       "      <td>0</td>\n",
       "    </tr>\n",
       "    <tr>\n",
       "      <th>1472</th>\n",
       "      <td>2021</td>\n",
       "      <td>12</td>\n",
       "      <td>Angkutan Umum Integrasi</td>\n",
       "      <td>10K</td>\n",
       "      <td>Tanjung Priok - Senen via Taman  BMW</td>\n",
       "      <td>0</td>\n",
       "    </tr>\n",
       "  </tbody>\n",
       "</table>\n",
       "<p>1473 rows × 6 columns</p>\n",
       "</div>"
      ],
      "text/plain": [
       "      tahun  bulan                    jenis kode_trayek  \\\n",
       "0      2021      1               Mikrotrans      JAK.88   \n",
       "1      2021      1               Mikrotrans      JAK.85   \n",
       "2      2021      1               Mikrotrans      JAK.84   \n",
       "3      2021      1               Mikrotrans      JAK.80   \n",
       "4      2021      1               Mikrotrans       JA.77   \n",
       "...     ...    ...                      ...         ...   \n",
       "1468   2021     12  Angkutan Umum Integrasi          1A   \n",
       "1469   2021     12  Angkutan Umum Integrasi         12B   \n",
       "1470   2021     12  Angkutan Umum Integrasi         11Q   \n",
       "1471   2021     12  Angkutan Umum Integrasi         11D   \n",
       "1472   2021     12  Angkutan Umum Integrasi         10K   \n",
       "\n",
       "                                    trayek  jumlah_penumpang  \n",
       "0     Terminal Tanjung Priok - Ancol Barat              1473  \n",
       "1                 Bintara - Cipinang Indah             20280  \n",
       "2     Terminal Kampung Melayu - Kapin Raya             28779  \n",
       "3                Rawa Buaya - Rawa Kompeni             54998  \n",
       "4            Tanjung Priok - Jembatan Item             60284  \n",
       "...                                    ...               ...  \n",
       "1468                      PIK - Balai Kota                 0  \n",
       "1469                         Pluit - Senen                 0  \n",
       "1470  Kampung Melayu - Pulo Gebang via BKT                 0  \n",
       "1471   Pulo Gebang - Pulo Gadung 2 via PIK                 0  \n",
       "1472  Tanjung Priok - Senen via Taman  BMW                 0  \n",
       "\n",
       "[1473 rows x 6 columns]"
      ]
     },
     "execution_count": 2,
     "metadata": {},
     "output_type": "execute_result"
    }
   ],
   "source": [
    "# Load dataset\n",
    "data1 = pd.read_csv('data-penumpang-bus-transjakarta-januari-2021.csv')\n",
    "data2 = pd.read_csv('data-penumpang-bus-transjakarta-februari-2021.csv')\n",
    "data3 = pd.read_csv('data-penumpang-bus-transjakarta-maret-2021.csv')\n",
    "data4 = pd.read_csv('data-penumpang-bus-transjakarta-april-2021.csv')\n",
    "data5 = pd.read_csv('data-penumpang-bus-transjakarta-mei-2021.csv')\n",
    "data6 = pd.read_csv('data-penumpang-bus-transjakarta-juni-2021.csv')\n",
    "data7 = pd.read_csv('data-penumpang-bus-transjakarta-juli-2021.csv')\n",
    "data8 = pd.read_csv('data-penumpang-bus-transjakarta-agustus-2021.csv')\n",
    "data9 = pd.read_csv('data-penumpang-bus-transjakarta-september-2021.csv')\n",
    "data10 = pd.read_csv('data-penumpang-bus-transjakarta-oktober-2021.csv')\n",
    "data11 = pd.read_csv('data-penumpang-bus-transjakarta-november-2021.csv')\n",
    "data12 = pd.read_csv('data-penumpang-bus-transjakarta-desember-2021.csv')\n",
    "\n",
    "# menggabungkan data bulanan\n",
    "data= pd.concat([data1, data2, data3, data4, data5, data6, data7,\n",
    "                               data8, data9, data10, data11, data12], ignore_index=True)\n",
    "data\n"
   ]
  },
  {
   "cell_type": "code",
   "execution_count": 3,
   "id": "3a2c1c65",
   "metadata": {},
   "outputs": [
    {
     "data": {
      "text/html": [
       "<div>\n",
       "<style scoped>\n",
       "    .dataframe tbody tr th:only-of-type {\n",
       "        vertical-align: middle;\n",
       "    }\n",
       "\n",
       "    .dataframe tbody tr th {\n",
       "        vertical-align: top;\n",
       "    }\n",
       "\n",
       "    .dataframe thead th {\n",
       "        text-align: right;\n",
       "    }\n",
       "</style>\n",
       "<table border=\"1\" class=\"dataframe\">\n",
       "  <thead>\n",
       "    <tr style=\"text-align: right;\">\n",
       "      <th></th>\n",
       "      <th>tahun</th>\n",
       "      <th>bulan</th>\n",
       "      <th>jenis</th>\n",
       "      <th>kode_trayek</th>\n",
       "      <th>trayek</th>\n",
       "      <th>jumlah_penumpang</th>\n",
       "    </tr>\n",
       "  </thead>\n",
       "  <tbody>\n",
       "    <tr>\n",
       "      <th>0</th>\n",
       "      <td>2021</td>\n",
       "      <td>1</td>\n",
       "      <td>Mikrotrans</td>\n",
       "      <td>JAK.88</td>\n",
       "      <td>Terminal Tanjung Priok - Ancol Barat</td>\n",
       "      <td>1473</td>\n",
       "    </tr>\n",
       "    <tr>\n",
       "      <th>1</th>\n",
       "      <td>2021</td>\n",
       "      <td>1</td>\n",
       "      <td>Mikrotrans</td>\n",
       "      <td>JAK.85</td>\n",
       "      <td>Bintara - Cipinang Indah</td>\n",
       "      <td>20280</td>\n",
       "    </tr>\n",
       "    <tr>\n",
       "      <th>2</th>\n",
       "      <td>2021</td>\n",
       "      <td>1</td>\n",
       "      <td>Mikrotrans</td>\n",
       "      <td>JAK.84</td>\n",
       "      <td>Terminal Kampung Melayu - Kapin Raya</td>\n",
       "      <td>28779</td>\n",
       "    </tr>\n",
       "    <tr>\n",
       "      <th>3</th>\n",
       "      <td>2021</td>\n",
       "      <td>1</td>\n",
       "      <td>Mikrotrans</td>\n",
       "      <td>JAK.80</td>\n",
       "      <td>Rawa Buaya - Rawa Kompeni</td>\n",
       "      <td>54998</td>\n",
       "    </tr>\n",
       "    <tr>\n",
       "      <th>4</th>\n",
       "      <td>2021</td>\n",
       "      <td>1</td>\n",
       "      <td>Mikrotrans</td>\n",
       "      <td>JA.77</td>\n",
       "      <td>Tanjung Priok - Jembatan Item</td>\n",
       "      <td>60284</td>\n",
       "    </tr>\n",
       "    <tr>\n",
       "      <th>...</th>\n",
       "      <td>...</td>\n",
       "      <td>...</td>\n",
       "      <td>...</td>\n",
       "      <td>...</td>\n",
       "      <td>...</td>\n",
       "      <td>...</td>\n",
       "    </tr>\n",
       "    <tr>\n",
       "      <th>1468</th>\n",
       "      <td>2021</td>\n",
       "      <td>12</td>\n",
       "      <td>Non BRT</td>\n",
       "      <td>1A</td>\n",
       "      <td>PIK - Balai Kota</td>\n",
       "      <td>0</td>\n",
       "    </tr>\n",
       "    <tr>\n",
       "      <th>1469</th>\n",
       "      <td>2021</td>\n",
       "      <td>12</td>\n",
       "      <td>Non BRT</td>\n",
       "      <td>12B</td>\n",
       "      <td>Pluit - Senen</td>\n",
       "      <td>0</td>\n",
       "    </tr>\n",
       "    <tr>\n",
       "      <th>1470</th>\n",
       "      <td>2021</td>\n",
       "      <td>12</td>\n",
       "      <td>Non BRT</td>\n",
       "      <td>11Q</td>\n",
       "      <td>Kampung Melayu - Pulo Gebang via BKT</td>\n",
       "      <td>0</td>\n",
       "    </tr>\n",
       "    <tr>\n",
       "      <th>1471</th>\n",
       "      <td>2021</td>\n",
       "      <td>12</td>\n",
       "      <td>Non BRT</td>\n",
       "      <td>11D</td>\n",
       "      <td>Pulo Gebang - Pulo Gadung 2 via PIK</td>\n",
       "      <td>0</td>\n",
       "    </tr>\n",
       "    <tr>\n",
       "      <th>1472</th>\n",
       "      <td>2021</td>\n",
       "      <td>12</td>\n",
       "      <td>Non BRT</td>\n",
       "      <td>10K</td>\n",
       "      <td>Tanjung Priok - Senen via Taman  BMW</td>\n",
       "      <td>0</td>\n",
       "    </tr>\n",
       "  </tbody>\n",
       "</table>\n",
       "<p>1473 rows × 6 columns</p>\n",
       "</div>"
      ],
      "text/plain": [
       "      tahun  bulan       jenis kode_trayek  \\\n",
       "0      2021      1  Mikrotrans      JAK.88   \n",
       "1      2021      1  Mikrotrans      JAK.85   \n",
       "2      2021      1  Mikrotrans      JAK.84   \n",
       "3      2021      1  Mikrotrans      JAK.80   \n",
       "4      2021      1  Mikrotrans       JA.77   \n",
       "...     ...    ...         ...         ...   \n",
       "1468   2021     12     Non BRT          1A   \n",
       "1469   2021     12     Non BRT         12B   \n",
       "1470   2021     12     Non BRT         11Q   \n",
       "1471   2021     12     Non BRT         11D   \n",
       "1472   2021     12     Non BRT         10K   \n",
       "\n",
       "                                    trayek  jumlah_penumpang  \n",
       "0     Terminal Tanjung Priok - Ancol Barat              1473  \n",
       "1                 Bintara - Cipinang Indah             20280  \n",
       "2     Terminal Kampung Melayu - Kapin Raya             28779  \n",
       "3                Rawa Buaya - Rawa Kompeni             54998  \n",
       "4            Tanjung Priok - Jembatan Item             60284  \n",
       "...                                    ...               ...  \n",
       "1468                      PIK - Balai Kota                 0  \n",
       "1469                         Pluit - Senen                 0  \n",
       "1470  Kampung Melayu - Pulo Gebang via BKT                 0  \n",
       "1471   Pulo Gebang - Pulo Gadung 2 via PIK                 0  \n",
       "1472  Tanjung Priok - Senen via Taman  BMW                 0  \n",
       "\n",
       "[1473 rows x 6 columns]"
      ]
     },
     "execution_count": 3,
     "metadata": {},
     "output_type": "execute_result"
    }
   ],
   "source": [
    "# mengganti 'Angkutan umum Integrasi dengan Non BRT'\n",
    "data['jenis'] = data['jenis'].replace('Angkutan Umum Integrasi', 'Non BRT')\n",
    "data"
   ]
  },
  {
   "cell_type": "code",
   "execution_count": 4,
   "id": "dd5ffcfe",
   "metadata": {},
   "outputs": [
    {
     "data": {
      "text/plain": [
       "0"
      ]
     },
     "execution_count": 4,
     "metadata": {},
     "output_type": "execute_result"
    }
   ],
   "source": [
    "# cek duplicate data\n",
    "data.duplicated().sum()"
   ]
  },
  {
   "cell_type": "code",
   "execution_count": 5,
   "id": "52aa71d0",
   "metadata": {},
   "outputs": [
    {
     "data": {
      "text/plain": [
       "tahun               0\n",
       "bulan               0\n",
       "jenis               0\n",
       "kode_trayek         0\n",
       "trayek              2\n",
       "jumlah_penumpang    0\n",
       "dtype: int64"
      ]
     },
     "execution_count": 5,
     "metadata": {},
     "output_type": "execute_result"
    }
   ],
   "source": [
    "# cek missing value\n",
    "data.isnull().sum()"
   ]
  },
  {
   "cell_type": "code",
   "execution_count": 6,
   "id": "1b7a76cb",
   "metadata": {},
   "outputs": [
    {
     "data": {
      "text/html": [
       "<div>\n",
       "<style scoped>\n",
       "    .dataframe tbody tr th:only-of-type {\n",
       "        vertical-align: middle;\n",
       "    }\n",
       "\n",
       "    .dataframe tbody tr th {\n",
       "        vertical-align: top;\n",
       "    }\n",
       "\n",
       "    .dataframe thead th {\n",
       "        text-align: right;\n",
       "    }\n",
       "</style>\n",
       "<table border=\"1\" class=\"dataframe\">\n",
       "  <thead>\n",
       "    <tr style=\"text-align: right;\">\n",
       "      <th></th>\n",
       "      <th>tahun</th>\n",
       "      <th>bulan</th>\n",
       "      <th>jenis</th>\n",
       "      <th>kode_trayek</th>\n",
       "      <th>trayek</th>\n",
       "      <th>jumlah_penumpang</th>\n",
       "    </tr>\n",
       "  </thead>\n",
       "  <tbody>\n",
       "    <tr>\n",
       "      <th>1411</th>\n",
       "      <td>2021</td>\n",
       "      <td>12</td>\n",
       "      <td>Mikrotrans</td>\n",
       "      <td>JAK.10B</td>\n",
       "      <td>NaN</td>\n",
       "      <td>4085</td>\n",
       "    </tr>\n",
       "    <tr>\n",
       "      <th>1412</th>\n",
       "      <td>2021</td>\n",
       "      <td>12</td>\n",
       "      <td>Mikrotrans</td>\n",
       "      <td>JAK.10A</td>\n",
       "      <td>NaN</td>\n",
       "      <td>33992</td>\n",
       "    </tr>\n",
       "  </tbody>\n",
       "</table>\n",
       "</div>"
      ],
      "text/plain": [
       "      tahun  bulan       jenis kode_trayek trayek  jumlah_penumpang\n",
       "1411   2021     12  Mikrotrans     JAK.10B    NaN              4085\n",
       "1412   2021     12  Mikrotrans     JAK.10A    NaN             33992"
      ]
     },
     "execution_count": 6,
     "metadata": {},
     "output_type": "execute_result"
    }
   ],
   "source": [
    "# melihat bagian mana dalam data yang terdapat missing value\n",
    "missing_in_columns = data.isna().sum()\n",
    "rows_with_missing_values = data[data.isna().any(axis=1)]\n",
    "missing_in_columns\n",
    "rows_with_missing_values"
   ]
  },
  {
   "cell_type": "markdown",
   "id": "3d6d2d73",
   "metadata": {},
   "source": [
    "ternyata ada baris kosong dalam kolom trayek. Berdasarkan situs transjakarta (https://transjakarta.co.id/peta-rute/), ternyata Kode trayek JAK.10A adalah trayek GONDANGDIA - CIKINI VIA SALEMBA RAYA dan JAK.10B adalah trayek GONDANGDIA - CIKINI VIA KRAMAT RAYA"
   ]
  },
  {
   "cell_type": "code",
   "execution_count": 7,
   "id": "7182fa88",
   "metadata": {},
   "outputs": [],
   "source": [
    "# mengisi baris kosong dalam kolom 'trayek' sesuai peta rute transjakarta\n",
    "data.loc[data['kode_trayek'] == 'JAK.10B', 'trayek'] = 'GONDANGDIA - CIKINI VIA KRAMAT RAYA'\n",
    "data.loc[data['kode_trayek'] == 'JAK.10A', 'trayek'] = 'GONDANGDIA - CIKINI VIA SALEMBA RAYA'"
   ]
  },
  {
   "cell_type": "code",
   "execution_count": 8,
   "id": "ceaa423e",
   "metadata": {},
   "outputs": [
    {
     "name": "stdout",
     "output_type": "stream",
     "text": [
      "<class 'pandas.core.frame.DataFrame'>\n",
      "RangeIndex: 1473 entries, 0 to 1472\n",
      "Data columns (total 6 columns):\n",
      " #   Column            Non-Null Count  Dtype \n",
      "---  ------            --------------  ----- \n",
      " 0   tahun             1473 non-null   int64 \n",
      " 1   bulan             1473 non-null   int64 \n",
      " 2   jenis             1473 non-null   object\n",
      " 3   kode_trayek       1473 non-null   object\n",
      " 4   trayek            1473 non-null   object\n",
      " 5   jumlah_penumpang  1473 non-null   int64 \n",
      "dtypes: int64(3), object(3)\n",
      "memory usage: 69.2+ KB\n"
     ]
    }
   ],
   "source": [
    "data.info()"
   ]
  },
  {
   "cell_type": "markdown",
   "id": "92c866c8",
   "metadata": {},
   "source": [
    "# Menentukan sampel"
   ]
  },
  {
   "cell_type": "code",
   "execution_count": 9,
   "id": "64ea7e04",
   "metadata": {},
   "outputs": [
    {
     "name": "stdout",
     "output_type": "stream",
     "text": [
      "Rata-rata populasi dari jumlah penumpang transjakarta tahun 2021 adalah 81676 orang\n"
     ]
    }
   ],
   "source": [
    "# menentukan rata-rata populasi dari jumlah penumpang\n",
    "true_mean = np.mean(data[\"jumlah_penumpang\"])\n",
    "\n",
    "print(f\"Rata-rata populasi dari jumlah penumpang transjakarta tahun 2021 adalah {true_mean:.0f} orang\")"
   ]
  },
  {
   "cell_type": "code",
   "execution_count": 10,
   "id": "8ba6966c",
   "metadata": {},
   "outputs": [
    {
     "data": {
      "image/png": "[encoded data removed]",
      "text/plain": [
       "<Figure size 1000x700 with 1 Axes>"
      ]
     },
     "metadata": {},
     "output_type": "display_data"
    }
   ],
   "source": [
    "# membuat boxplot\n",
    "fig, ax = plt.subplots(nrows=1, ncols=1, figsize=(10, 7))\n",
    "\n",
    "sns.boxplot(data = data,\n",
    "            x = \"jumlah_penumpang\",\n",
    "            y = \"jenis\",\n",
    "            ax = ax)\n",
    "\n",
    "ax.set_xlabel(\"Jumlah Penumpang\", fontsize=16)\n",
    "ax.set_ylabel(\"Jenis Layanan\", fontsize=16)\n",
    "\n",
    "plt.show()"
   ]
  },
  {
   "cell_type": "markdown",
   "id": "1e71c4ab",
   "metadata": {},
   "source": [
    "Dari boxplot diatas, diketahui bahwa:\n",
    "1. Data tersebut tidak homogen\n",
    "2. Terdapat perbedaan median dalam jumlah penumpang"
   ]
  },
  {
   "cell_type": "markdown",
   "id": "f82cf4f5",
   "metadata": {},
   "source": [
    "Karena tidak diketahui tentang biaya dan variansi populasinya, maka alokasi sampel yang digunakan adalah proportional alocation dengan rumus:\n",
    "\n",
    "$$\n",
    "n_{h} = n \\cdot \\cfrac{N_{h}}{N}\n",
    "$$"
   ]
  },
  {
   "cell_type": "code",
   "execution_count": 11,
   "id": "12012133",
   "metadata": {},
   "outputs": [
    {
     "data": {
      "text/plain": [
       "jenis\n",
       "BRT           156\n",
       "Mikrotrans    848\n",
       "Non BRT       469\n",
       "Name: jenis, dtype: int64"
      ]
     },
     "execution_count": 11,
     "metadata": {},
     "output_type": "execute_result"
    }
   ],
   "source": [
    "# menghitung jumlah N_list\n",
    "jumlah_N_list = data.groupby('jenis')['jenis'].count()\n",
    "jumlah_N_list"
   ]
  },
  {
   "cell_type": "markdown",
   "id": "0775ccc6",
   "metadata": {},
   "source": [
    "dari data diatas, diketahui:\n",
    "\n",
    "<center>\n",
    "\n",
    "|Strata, $h$|1. BRT|2. Non BRT|3. Mikrotrans|\n",
    "|:|:|:|:|\n",
    "|$N_{h}$|156|848|469|\n",
    "|$n_{h}$|...|...|...|\n",
    "\n",
    "</center>"
   ]
  },
  {
   "cell_type": "code",
   "execution_count": 12,
   "id": "e30c9f24",
   "metadata": {},
   "outputs": [
    {
     "name": "stdout",
     "output_type": "stream",
     "text": [
      "[52, 287, 161]\n"
     ]
    }
   ],
   "source": [
    "# Given\n",
    "N_list = [156, 848, 469]\n",
    "n = 500\n",
    "N = 1473\n",
    "n_list = []\n",
    "for h in range(3):\n",
    "    # mengambil data\n",
    "    N_h = N_list[h]\n",
    "\n",
    "    # menghitung sample size tiap strata dengan rumus:\n",
    "    n_h = n * (N_h/N)\n",
    "\n",
    "    if h == 2:\n",
    "        n_h = n - np.sum(n_list)\n",
    "\n",
    "    # menyimpan sample size\n",
    "    n_list.append(int(n_h))\n",
    "\n",
    "print(n_list)"
   ]
  },
  {
   "cell_type": "markdown",
   "id": "c4a3463a",
   "metadata": {},
   "source": [
    "<center>\n",
    "\n",
    "|Strata, $h$|1. BRT|2. Non BRT|3. Mikrotrans|\n",
    "|:|:|:|:|\n",
    "|$N_{h}$|156|848|469|\n",
    "|$n_{h}$|52|287|161|\n",
    "\n",
    "</center>"
   ]
  },
  {
   "cell_type": "markdown",
   "id": "d4ced993",
   "metadata": {},
   "source": [
    "Untuk tiap strata, dilakukan SRS\n",
    "\n",
    "<center>\n",
    "\n",
    "|Strata, $h$|1. BRT|2. Non BRT|3. Mikrotrans|\n",
    "|:|:|:|:|\n",
    "|$N_{h}$|156|848|469|\n",
    "|$n_{h}$|52|287|161|\n",
    "|$\\bar{y}_{h}$|...|...|...|\n",
    "|$s_{h}^{2}$|...|...|...|\n",
    "\n",
    "</center>"
   ]
  },
  {
   "cell_type": "code",
   "execution_count": 13,
   "id": "a074fa54",
   "metadata": {},
   "outputs": [
    {
     "name": "stdout",
     "output_type": "stream",
     "text": [
      "[396469.5961538461, 23479.881533101045, 59463.80745341615]\n",
      "[52708800630.99057, 570515082.0138887, 588114474.0064441]\n"
     ]
    }
   ],
   "source": [
    "# membuat list untuk menyimpan mean & variance tiap strata\n",
    "strata_names = [\"BRT\", \"Non BRT\", \"Mikrotrans\"]\n",
    "mean_list = []\n",
    "var_list = []\n",
    "\n",
    "for h in range(3):\n",
    "    # 0. mengambil data\n",
    "    N_h = N_list[h]\n",
    "    n_h = n_list[h]\n",
    "\n",
    "    # 1. menyaring spesifik strata\n",
    "    data_strata_h = data[data[\"jenis\"] == strata_names[h]]\n",
    "\n",
    "    # 2. mengambil SRS dari strata data\n",
    "    sample_strata_h = data_strata_h.sample(n = n_h,\n",
    "                                           replace = False,\n",
    "                                           random_state = 22)\n",
    "    \n",
    "    # 3. menghitung mean & variance\n",
    "    mean_h = np.mean(sample_strata_h[\"jumlah_penumpang\"])\n",
    "    var_h = np.var(sample_strata_h[\"jumlah_penumpang\"], ddof = 1)\n",
    "\n",
    "    mean_list.append(mean_h)\n",
    "    var_list.append(var_h)\n",
    "\n",
    "print(mean_list)\n",
    "print(var_list)"
   ]
  },
  {
   "cell_type": "markdown",
   "id": "47778570",
   "metadata": {},
   "source": [
    "\n",
    "<center>\n",
    "\n",
    "|Strata, $h$|1. BRT|2. Non BRT|3. Mikrotrans|\n",
    "|:|:|:|:|\n",
    "|$N_{h}$|156|848|469|\n",
    "|$n_{h}$|52|287|161|\n",
    "|$\\bar{y}_{h}$|396469.59|23479.88|59463.80|\n",
    "|$s_{h}^{2}$|52708800630.99|570515082.01|588114474.00|\n",
    "\n",
    "</center>"
   ]
  },
  {
   "cell_type": "markdown",
   "id": "ee31ceb6",
   "metadata": {},
   "source": [
    "#### Menghitung rata-rata populasi"
   ]
  },
  {
   "cell_type": "code",
   "execution_count": 14,
   "id": "1bf010be",
   "metadata": {},
   "outputs": [
    {
     "name": "stdout",
     "output_type": "stream",
     "text": [
      "Unbiased estimate of population mean dari sampel\n",
      "Rata-rata jumlah penumpang   : 74439 orang\n"
     ]
    }
   ],
   "source": [
    "est_pop_sum = 0\n",
    "for h in range(3):\n",
    "    # mengambil data\n",
    "    N_h = N_list[h]\n",
    "    y_bar_h = mean_list[h]\n",
    "\n",
    "    # menjumlahkan data\n",
    "    est_pop_sum += N_h * y_bar_h\n",
    "\n",
    "est_pop_mean = est_pop_sum / N\n",
    "\n",
    "print(f\"Unbiased estimate of population mean dari sampel\")\n",
    "print(f\"Rata-rata jumlah penumpang   : {est_pop_mean:.0f} orang\")"
   ]
  },
  {
   "cell_type": "markdown",
   "id": "d1113802",
   "metadata": {},
   "source": [
    "#### Menghitung variance estimator dengan rumus:\n",
    "\n",
    "$$\n",
    "\\widehat{\\text{var}}(\\bar{y}_{st}) =\n",
    "\\sum_{h=1}^{L}\n",
    "\\left ( \\cfrac{N_{h}}{N} \\right )^{2}\n",
    "\\left ( \\cfrac{N_{h}-n_{h}}{N_{h}} \\right )\n",
    "\\cfrac{s_{h}^{2}}{n_{h}}\n",
    "$$"
   ]
  },
  {
   "cell_type": "code",
   "execution_count": 15,
   "id": "73d83fc0",
   "metadata": {},
   "outputs": [
    {
     "name": "stdout",
     "output_type": "stream",
     "text": [
      "Variance of mean estimator      : 8258400.828\n"
     ]
    }
   ],
   "source": [
    "var_est = 0\n",
    "for h in range(3):\n",
    "    # mengambil data\n",
    "    N_h = N_list[h]\n",
    "    n_h = n_list[h]\n",
    "    ybar_h = mean_list[h]\n",
    "    s2_h = var_list[h]\n",
    "\n",
    "    var_est += ((N_h/N)**2) * ((N_h-n_h)/N_h) * (s2_h/n_h)\n",
    "\n",
    "print(f\"Variance of mean estimator      : {var_est:.3f}\")"
   ]
  },
  {
   "cell_type": "markdown",
   "id": "b7524879",
   "metadata": {},
   "source": [
    "#### Menghitung Margin of Error"
   ]
  },
  {
   "cell_type": "code",
   "execution_count": 16,
   "id": "2b825163",
   "metadata": {},
   "outputs": [
    {
     "name": "stdout",
     "output_type": "stream",
     "text": [
      "z_stat              : 1.96\n",
      "margin of error     : 5632 orang\n"
     ]
    }
   ],
   "source": [
    "# menghitung z_stat @ 95% CI\n",
    "alpha = 0.05\n",
    "z_stat = stats.norm.ppf(1 - alpha/2.)\n",
    "print(f\"z_stat              : {z_stat:.2f}\")\n",
    "\n",
    "# menghitung margin of error (d)\n",
    "d = z_stat * np.sqrt(var_est)\n",
    "print(f\"margin of error     : {d:.0f} orang\")"
   ]
  },
  {
   "cell_type": "code",
   "execution_count": 17,
   "id": "24da735b",
   "metadata": {},
   "outputs": [
    {
     "name": "stdout",
     "output_type": "stream",
     "text": [
      "Dengan 95% confidence interval, nilai rata-rata asli banyaknya jumlah penumpang Transakarta Tahun 2021 berkisar antara 68807 orang hingga 80071 orang\n"
     ]
    }
   ],
   "source": [
    "# Menghitung Cnfidence Interval\n",
    "lb = est_pop_mean - d\n",
    "ub = est_pop_mean + d\n",
    "\n",
    "print(f\"Dengan 95% confidence interval, nilai rata-rata asli banyaknya jumlah penumpang Transakarta \\\n",
    "Tahun 2021 berkisar antara {lb:.0f} orang hingga {ub:.0f} orang\")"
   ]
  },
  {
   "cell_type": "markdown",
   "id": "39250315",
   "metadata": {},
   "source": [
    "### Kesimpulan"
   ]
  },
  {
   "cell_type": "markdown",
   "id": "97e8277c",
   "metadata": {},
   "source": [
    "1. Hasil perhitungan menggunakan metode stratified sampling menunjukkan estimasi rata-rata banyaknya penumpang Transjakarta Tahun 2021 adalah sebesar 74439 orang.\n",
    "2. Dengan 95% confidence interval, nilai rata-rata asli banyaknya penumpang Transjakarta Tahun 2021 berkisar antara 68807 orang hingga 80071 orang.\n",
    "3. Banyaknya data jumlah penumpang harus di imbangi dengan banyaknya jumlah sampel yang diambil agar lebih akurat.\n",
    "4. Nilai rata-rata banyaknya jumlah penumpang ini dapat dijadikan nilai acuan dalam mengembangkan sistem transportasi umum berbasis bus (menambah atau mengurangi trayek sesuai demand penumpang).\n",
    "5. Data dapat dieksplorasi lebih jauh dengan meneliti sampel-sampel dari tiap layanan hingga sampel-sampel dari trayek tiap-tiap jenis layanan. Sehingga didapat data yang lebih akurat dalam mengestimasi kebutuhan bus / jumlah jalur/ trayek sesuai dengan demand penumpang.\n",
    "6. Kelemahan dari rancangan sampling ini adalah belum memperhitungkan biaya-biaya yang timbul saat sampling.\n",
    "7. Data tahun 2021 adalah data setahun setelah pandemi COVID. Kemungkinan adanya ketidaksesuaian karena terkait kebijakan pemerintah tentang pembatasan kegiatan di tempat umum.  "
   ]
  },
  {
   "cell_type": "code",
   "execution_count": null,
   "id": "d3cc0a50",
   "metadata": {},
   "outputs": [],
   "source": []
  }
 ],
 "metadata": {
  "kernelspec": {
   "display_name": "Python 3 (ipykernel)",
   "language": "python",
   "name": "python3"
  },
  "language_info": {
   "codemirror_mode": {
    "name": "ipython",
    "version": 3
   },
   "file_extension": ".py",
   "mimetype": "text/x-python",
   "name": "python",
   "nbconvert_exporter": "python",
   "pygments_lexer": "ipython3",
   "version": "3.9.13"
  }
 },
 "nbformat": 4,
 "nbformat_minor": 5
}
